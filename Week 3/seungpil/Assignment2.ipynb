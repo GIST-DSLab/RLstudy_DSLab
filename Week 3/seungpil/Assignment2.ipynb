{
  "cells": [
    {
      "cell_type": "markdown",
      "metadata": {
        "deletable": false,
        "editable": false,
        "id": "-1u9TJV8xoW_",
        "nbgrader": {
          "checksum": "3996977e7d68ec12f2c9ffcfe5ce214b",
          "grade": false,
          "grade_id": "cell-649fd0b1aa7ccb0f",
          "locked": true,
          "schema_version": 1,
          "solution": false
        }
      },
      "source": [
        "# Assignment 2: Optimal Policies with Dynamic Programming\n",
        "\n",
        "Welcome to Assignment 2. This notebook will help you understand:\n",
        "- Policy Evaluation and Policy Improvement.\n",
        "- Value and Policy Iteration.\n",
        "- Bellman Equations."
      ]
    },
    {
      "cell_type": "markdown",
      "metadata": {
        "deletable": false,
        "editable": false,
        "id": "lqnkIFPpxoXC",
        "nbgrader": {
          "checksum": "20729884a9ceb3804a03589ce5938a2d",
          "grade": false,
          "grade_id": "cell-9aafac39a58eeca4",
          "locked": true,
          "schema_version": 1,
          "solution": false
        }
      },
      "source": [
        "## Gridworld City\n",
        "\n",
        "Gridworld City, a thriving metropolis with a booming technology industry, has recently experienced an influx of grid-loving software engineers. Unfortunately, the city's street parking system, which charges a fixed rate, is struggling to keep up with the increased demand. To address this, the city council has decided to modify the pricing scheme to better promote social welfare. In general, the city considers social welfare higher when more parking is being used, the exception being that the city prefers that at least one spot is left unoccupied (so that it is available in case someone really needs it). The city council has created a Markov decision process (MDP) to model the demand for parking with a reward function that reflects its preferences. Now the city has hired you &mdash; an expert in dynamic programming &mdash; to help determine an optimal policy."
      ]
    },
    {
      "cell_type": "markdown",
      "metadata": {
        "deletable": false,
        "editable": false,
        "id": "cQljUQL3xoXC",
        "nbgrader": {
          "checksum": "77a7b97ee700b6ce77ed26bd22749e80",
          "grade": false,
          "grade_id": "cell-28ccff8d1e663850",
          "locked": true,
          "schema_version": 1,
          "solution": false
        }
      },
      "source": [
        "## Preliminaries\n",
        "You'll need two imports to complete this assigment:\n",
        "- numpy: The fundamental package for scientific computing with Python.\n",
        "- tools: A module containing an environment and a plotting function.\n",
        "\n",
        "There are also some other lines in the cell below that are used for grading and plotting &mdash; you needn't worry about them.\n",
        "\n",
        "In this notebook, all cells are locked except those that you are explicitly asked to modify. It is up to you to decide how to implement your solution in these cells, **but please do not import other libraries** &mdash; doing so will break the autograder."
      ]
    },
    {
      "cell_type": "code",
      "execution_count": 1,
      "metadata": {
        "deletable": false,
        "editable": false,
        "id": "wAR7qm2yxoXD",
        "nbgrader": {
          "checksum": "f70cbdcd1e273dfc166b366836a4136f",
          "grade": false,
          "grade_id": "cell-c11ff54faaf3fd89",
          "locked": true,
          "schema_version": 1,
          "solution": false
        }
      },
      "outputs": [],
      "source": [
        "%%capture\n",
        "%matplotlib inline\n",
        "import numpy as np\n",
        "import pickle\n",
        "import tools"
      ]
    },
    {
      "cell_type": "markdown",
      "metadata": {
        "deletable": false,
        "editable": false,
        "id": "ath9Ph71xoXE",
        "nbgrader": {
          "checksum": "596fffc2a1391897952fcabe2a8db930",
          "grade": false,
          "grade_id": "cell-4c7c5c4373be59ff",
          "locked": true,
          "schema_version": 1,
          "solution": false
        }
      },
      "source": [
        "In the city council's parking MDP, states are nonnegative integers indicating how many parking spaces are occupied, actions are nonnegative integers designating the price of street parking, the reward is a real value describing the city's preference for the situation, and time is discretized by hour. As might be expected, charging a high price is likely to decrease occupancy over the hour, while charging a low price is likely to increase it.\n",
        "\n",
        "For now, let's consider an environment with three parking spaces and three price points. Note that an environment with three parking spaces actually has four states &mdash; zero, one, two, or three spaces could be occupied."
      ]
    },
    {
      "cell_type": "code",
      "execution_count": 2,
      "metadata": {
        "deletable": false,
        "editable": false,
        "id": "WGX-Pwt3xoXE",
        "nbgrader": {
          "checksum": "c2e5b06e5166bc03c5075db981280485",
          "grade": false,
          "grade_id": "cell-d25d06a8bafc4c26",
          "locked": true,
          "schema_version": 1,
          "solution": false
        }
      },
      "outputs": [],
      "source": [
        "num_spaces = 3\n",
        "num_prices = 3\n",
        "env = tools.ParkingWorld(num_spaces, num_prices)\n",
        "V = np.zeros(num_spaces + 1)\n",
        "pi = np.ones((num_spaces + 1, num_prices)) / num_prices"
      ]
    },
    {
      "cell_type": "markdown",
      "metadata": {
        "deletable": false,
        "editable": false,
        "id": "b1fCoGQQxoXE",
        "nbgrader": {
          "checksum": "0813b0f481e1f2f90e12f38456781410",
          "grade": false,
          "grade_id": "cell-57212e031233c500",
          "locked": true,
          "schema_version": 1,
          "solution": false
        }
      },
      "source": [
        "The value function is a one-dimensional array where the $i$-th entry gives the value of $i$ spaces being occupied."
      ]
    },
    {
      "cell_type": "code",
      "execution_count": 3,
      "metadata": {
        "deletable": false,
        "editable": false,
        "id": "KHL78L3FxoXF",
        "nbgrader": {
          "checksum": "559643d84ae07b1b499ec4c6b9af40bc",
          "grade": false,
          "grade_id": "cell-ac2f8ec29c0c9ab6",
          "locked": true,
          "schema_version": 1,
          "solution": false
        }
      },
      "outputs": [
        {
          "data": {
            "text/plain": [
              "0.0"
            ]
          },
          "execution_count": 3,
          "metadata": {},
          "output_type": "execute_result"
        }
      ],
      "source": [
        "state = 0\n",
        "V[state]"
      ]
    },
    {
      "cell_type": "code",
      "execution_count": 4,
      "metadata": {
        "deletable": false,
        "editable": false,
        "id": "QrWUeSkSxoXF",
        "nbgrader": {
          "checksum": "29380e07e1a4da60134db6949d7eb772",
          "grade": false,
          "grade_id": "cell-c829e4ece8bf9412",
          "locked": true,
          "schema_version": 1,
          "solution": false
        }
      },
      "outputs": [
        {
          "data": {
            "text/plain": [
              "array([10.,  0.,  0.,  0.])"
            ]
          },
          "execution_count": 4,
          "metadata": {},
          "output_type": "execute_result"
        }
      ],
      "source": [
        "state = 0\n",
        "value = 10\n",
        "V[state] = value\n",
        "V"
      ]
    },
    {
      "cell_type": "code",
      "execution_count": 5,
      "metadata": {
        "deletable": false,
        "editable": false,
        "id": "2GxG1hvKxoXF",
        "nbgrader": {
          "checksum": "a296188c40952607943d9eddbd021f81",
          "grade": false,
          "grade_id": "cell-cb5bc5279787faad",
          "locked": true,
          "schema_version": 1,
          "solution": false
        }
      },
      "outputs": [
        {
          "name": "stdout",
          "output_type": "stream",
          "text": [
            "State 0 has value 10.0\n",
            "State 1 has value 0.0\n",
            "State 2 has value 0.0\n",
            "State 3 has value 0.0\n"
          ]
        }
      ],
      "source": [
        "for s, v in enumerate(V):\n",
        "    print(f'State {s} has value {v}')"
      ]
    },
    {
      "cell_type": "markdown",
      "metadata": {
        "deletable": false,
        "editable": false,
        "id": "2RnDCPPNxoXF",
        "nbgrader": {
          "checksum": "cb305ee8a8d6e293a48b96ace69bfb53",
          "grade": false,
          "grade_id": "cell-57154206afc97770",
          "locked": true,
          "schema_version": 1,
          "solution": false
        }
      },
      "source": [
        "The policy is a two-dimensional array where the $(i, j)$-th entry gives the probability of taking action $j$ in state $i$."
      ]
    },
    {
      "cell_type": "code",
      "execution_count": 6,
      "metadata": {
        "deletable": false,
        "editable": false,
        "id": "UVdS1-zZxoXF",
        "nbgrader": {
          "checksum": "d732d93b6545408fa819526c2e52a0cf",
          "grade": false,
          "grade_id": "cell-85c017bb1e6fe4df",
          "locked": true,
          "schema_version": 1,
          "solution": false
        }
      },
      "outputs": [
        {
          "data": {
            "text/plain": [
              "array([[0.33333333, 0.33333333, 0.33333333],\n",
              "       [0.33333333, 0.33333333, 0.33333333],\n",
              "       [0.33333333, 0.33333333, 0.33333333],\n",
              "       [0.33333333, 0.33333333, 0.33333333]])"
            ]
          },
          "execution_count": 6,
          "metadata": {},
          "output_type": "execute_result"
        }
      ],
      "source": [
        "pi"
      ]
    },
    {
      "cell_type": "code",
      "execution_count": 7,
      "metadata": {
        "deletable": false,
        "editable": false,
        "id": "mf1oNw1RxoXG",
        "nbgrader": {
          "checksum": "3b5bc8eebf9c09786a2a966cadcf0400",
          "grade": false,
          "grade_id": "cell-92a61a07d9f0bf04",
          "locked": true,
          "schema_version": 1,
          "solution": false
        }
      },
      "outputs": [
        {
          "data": {
            "text/plain": [
              "array([0.33333333, 0.33333333, 0.33333333])"
            ]
          },
          "execution_count": 7,
          "metadata": {},
          "output_type": "execute_result"
        }
      ],
      "source": [
        "state = 0\n",
        "pi[state]"
      ]
    },
    {
      "cell_type": "code",
      "execution_count": 8,
      "metadata": {
        "deletable": false,
        "editable": false,
        "id": "6EktxwvgxoXG",
        "nbgrader": {
          "checksum": "4780c63332dfc7f65a998403c2a4bf21",
          "grade": false,
          "grade_id": "cell-0e224545b27d80c7",
          "locked": true,
          "schema_version": 1,
          "solution": false
        }
      },
      "outputs": [
        {
          "data": {
            "text/plain": [
              "0.3333333333333333"
            ]
          },
          "execution_count": 8,
          "metadata": {},
          "output_type": "execute_result"
        }
      ],
      "source": [
        "state = 0\n",
        "action = 1\n",
        "pi[state, action]"
      ]
    },
    {
      "cell_type": "code",
      "execution_count": 9,
      "metadata": {
        "deletable": false,
        "editable": false,
        "id": "p2ayyHEhxoXG",
        "nbgrader": {
          "checksum": "ba7a14554c52279e4cfe7818982b914e",
          "grade": false,
          "grade_id": "cell-1f5e3fcf8d0384b9",
          "locked": true,
          "schema_version": 1,
          "solution": false
        }
      },
      "outputs": [
        {
          "data": {
            "text/plain": [
              "array([[0.75      , 0.21      , 0.04      ],\n",
              "       [0.33333333, 0.33333333, 0.33333333],\n",
              "       [0.33333333, 0.33333333, 0.33333333],\n",
              "       [0.33333333, 0.33333333, 0.33333333]])"
            ]
          },
          "execution_count": 9,
          "metadata": {},
          "output_type": "execute_result"
        }
      ],
      "source": [
        "pi[state] = np.array([0.75, 0.21, 0.04])\n",
        "pi"
      ]
    },
    {
      "cell_type": "code",
      "execution_count": 10,
      "metadata": {
        "deletable": false,
        "editable": false,
        "id": "-8Fjd8uPxoXG",
        "nbgrader": {
          "checksum": "1cf19333d9690caba29729b2d8fed55c",
          "grade": false,
          "grade_id": "cell-d7d514ba81bc686c",
          "locked": true,
          "schema_version": 1,
          "solution": false
        }
      },
      "outputs": [
        {
          "name": "stdout",
          "output_type": "stream",
          "text": [
            "pi(A=0|S=0) = 0.75    pi(A=1|S=0) = 0.21    pi(A=2|S=0) = 0.04    \n",
            "pi(A=0|S=1) = 0.33    pi(A=1|S=1) = 0.33    pi(A=2|S=1) = 0.33    \n",
            "pi(A=0|S=2) = 0.33    pi(A=1|S=2) = 0.33    pi(A=2|S=2) = 0.33    \n",
            "pi(A=0|S=3) = 0.33    pi(A=1|S=3) = 0.33    pi(A=2|S=3) = 0.33    \n"
          ]
        }
      ],
      "source": [
        "for s, pi_s in enumerate(pi):\n",
        "    print(f''.join(f'pi(A={a}|S={s}) = {p.round(2)}' + 4 * ' ' for a, p in enumerate(pi_s)))"
      ]
    },
    {
      "cell_type": "code",
      "execution_count": 11,
      "metadata": {
        "deletable": false,
        "editable": false,
        "id": "y9BpzgqsxoXG",
        "nbgrader": {
          "checksum": "cdff0c353f33f3cfd7413c141fa4d317",
          "grade": false,
          "grade_id": "cell-46b46b0dc80c68c7",
          "locked": true,
          "schema_version": 1,
          "solution": false
        }
      },
      "outputs": [
        {
          "data": {
            "image/png": "[encoded data removed]",
            "text/plain": [
              "<Figure size 1250x500 with 3 Axes>"
            ]
          },
          "metadata": {},
          "output_type": "display_data"
        }
      ],
      "source": [
        "tools.plot(V, pi)"
      ]
    },
    {
      "cell_type": "markdown",
      "metadata": {
        "deletable": false,
        "editable": false,
        "id": "ddd-bxvhxoXG",
        "nbgrader": {
          "checksum": "4f450ea0212f959d952e9b0272e57cf3",
          "grade": false,
          "grade_id": "cell-ce3ac9318671059d",
          "locked": true,
          "schema_version": 1,
          "solution": false
        }
      },
      "source": [
        "We can visualize a value function and policy with the `plot` function in the `tools` module. On the left, the value function is displayed as a barplot. State zero has an expected return of ten, while the other states have an expected return of zero. On the right, the policy is displayed on a two-dimensional grid. Each vertical strip gives the policy at the labeled state. In state zero, action zero is the darkest because the agent's policy makes this choice with the highest probability. In the other states the agent has the equiprobable policy, so the vertical strips are colored uniformly."
      ]
    },
    {
      "cell_type": "markdown",
      "metadata": {
        "deletable": false,
        "editable": false,
        "id": "-GqDFNg-xoXG",
        "nbgrader": {
          "checksum": "049e3d7344e203034323e1f86a503ee4",
          "grade": false,
          "grade_id": "cell-3975c91dbe24e9e8",
          "locked": true,
          "schema_version": 1,
          "solution": false
        }
      },
      "source": [
        "You can access the state space and the action set as attributes of the environment."
      ]
    },
    {
      "cell_type": "code",
      "execution_count": 12,
      "metadata": {
        "deletable": false,
        "editable": false,
        "id": "HzW-slyjxoXG",
        "nbgrader": {
          "checksum": "4fafc756424773278069199ff876300e",
          "grade": false,
          "grade_id": "cell-94d868709c1a9eba",
          "locked": true,
          "schema_version": 1,
          "solution": false
        }
      },
      "outputs": [
        {
          "data": {
            "text/plain": [
              "[0, 1, 2, 3]"
            ]
          },
          "execution_count": 12,
          "metadata": {},
          "output_type": "execute_result"
        }
      ],
      "source": [
        "env.S"
      ]
    },
    {
      "cell_type": "code",
      "execution_count": 13,
      "metadata": {
        "deletable": false,
        "editable": false,
        "id": "ttJUlj0NxoXH",
        "nbgrader": {
          "checksum": "dc72712f4890361c35c0b19f0df5befd",
          "grade": false,
          "grade_id": "cell-6f16d9e8ebf01b60",
          "locked": true,
          "schema_version": 1,
          "solution": false
        }
      },
      "outputs": [
        {
          "data": {
            "text/plain": [
              "[0, 1, 2]"
            ]
          },
          "execution_count": 13,
          "metadata": {},
          "output_type": "execute_result"
        }
      ],
      "source": [
        "env.A"
      ]
    },
    {
      "cell_type": "markdown",
      "metadata": {
        "deletable": false,
        "editable": false,
        "id": "Dq87NBpkxoXH",
        "nbgrader": {
          "checksum": "12e6b88d7cf8ec6d20c7e14e3d43b5e2",
          "grade": false,
          "grade_id": "cell-927e52efe516a816",
          "locked": true,
          "schema_version": 1,
          "solution": false
        }
      },
      "source": [
        "You will need to use the environment's `transitions` method to complete this assignment. The method takes a state and an action and returns a 2-dimensional array, where the entry at $(i, 0)$ is the reward for transitioning to state $i$ from the current state and the entry at $(i, 1)$ is the conditional probability of transitioning to state $i$ given the current state and action."
      ]
    },
    {
      "cell_type": "code",
      "execution_count": 14,
      "metadata": {
        "deletable": false,
        "editable": false,
        "id": "Hiv27c21xoXH",
        "nbgrader": {
          "checksum": "4d32e329bafe53f2061e6b577751f291",
          "grade": false,
          "grade_id": "cell-4185982b1a21cd04",
          "locked": true,
          "schema_version": 1,
          "solution": false
        }
      },
      "outputs": [
        {
          "data": {
            "text/plain": [
              "array([[1.        , 0.12390437],\n",
              "       [2.        , 0.15133714],\n",
              "       [3.        , 0.1848436 ],\n",
              "       [2.        , 0.53991488]])"
            ]
          },
          "execution_count": 14,
          "metadata": {},
          "output_type": "execute_result"
        }
      ],
      "source": [
        "state = 3\n",
        "action = 1\n",
        "transitions = env.transitions(state, action)\n",
        "transitions"
      ]
    },
    {
      "cell_type": "code",
      "execution_count": 15,
      "metadata": {
        "deletable": false,
        "editable": false,
        "id": "YpL277FoxoXH",
        "nbgrader": {
          "checksum": "768d9dfafd5bb70c8d3641fb6fb17ce3",
          "grade": false,
          "grade_id": "cell-379fdb797cae3afb",
          "locked": true,
          "schema_version": 1,
          "solution": false
        }
      },
      "outputs": [
        {
          "name": "stdout",
          "output_type": "stream",
          "text": [
            "p(S'=0, R=1.0 | S=3, A=1) = 0.12\n",
            "p(S'=1, R=2.0 | S=3, A=1) = 0.15\n",
            "p(S'=2, R=3.0 | S=3, A=1) = 0.18\n",
            "p(S'=3, R=2.0 | S=3, A=1) = 0.54\n"
          ]
        }
      ],
      "source": [
        "for s_, (r, p) in enumerate(transitions):\n",
        "    print(f'p(S\\'={s_}, R={r} | S={state}, A={action}) = {p.round(2)}')"
      ]
    },
    {
      "cell_type": "markdown",
      "metadata": {
        "deletable": false,
        "editable": false,
        "id": "9BEahNNcxoXH",
        "nbgrader": {
          "checksum": "0869f6736a9ab680b0c82dccf72ba11c",
          "grade": false,
          "grade_id": "cell-141d4e3806427283",
          "locked": true,
          "schema_version": 1,
          "solution": false
        }
      },
      "source": [
        "## Section 1: Policy Evaluation\n",
        "\n",
        "You're now ready to begin the assignment! First, the city council would like you to evaluate the quality of the existing pricing scheme. Policy evaluation works by iteratively applying the Bellman equation for $v_{\\pi}$ to a working value function, as an update rule, as shown below.\n",
        "\n",
        "$$\\large v(s) \\leftarrow \\sum_a \\pi(a | s) \\sum_{s', r} p(s', r | s, a)[r + \\gamma v(s')]$$\n",
        "This update can either occur \"in-place\" (i.e. the update rule is sequentially applied to each state) or with \"two-arrays\" (i.e. the update rule is simultaneously applied to each state). Both versions converge to $v_{\\pi}$ but the in-place version usually converges faster. **In this assignment, we will be implementing all update rules in-place**, as is done in the pseudocode of chapter 4 of the textbook.\n",
        "\n",
        "We have written an outline of the policy evaluation algorithm described in chapter 4.1 of the textbook. It is left to you to fill in the `bellman_update` function to complete the algorithm."
      ]
    },
    {
      "cell_type": "code",
      "execution_count": 18,
      "metadata": {
        "deletable": false,
        "editable": false,
        "id": "W1b9rKCdxoXH",
        "nbgrader": {
          "checksum": "732aa9563f9fa2209380be4dcfc22c31",
          "grade": false,
          "grade_id": "cell-8d04cf6f6f397e17",
          "locked": true,
          "schema_version": 1,
          "solution": false
        }
      },
      "outputs": [],
      "source": [
        "def evaluate_policy(env, V, pi, gamma, theta):\n",
        "    while True:\n",
        "        delta = 0\n",
        "        for s in env.S:\n",
        "            v = V[s]\n",
        "            bellman_update(env, V, pi, s, gamma)\n",
        "            delta = max(delta, abs(v - V[s]))\n",
        "        if delta < theta:\n",
        "            break\n",
        "    return V"
      ]
    },
    {
      "cell_type": "code",
      "execution_count": 19,
      "metadata": {
        "deletable": false,
        "id": "ugHtAPw2xoXH",
        "nbgrader": {
          "checksum": "c8aad24b28e1eaf3fd87481be87f89e1",
          "grade": false,
          "grade_id": "cell-4113388a5f8401b6",
          "locked": false,
          "schema_version": 1,
          "solution": true
        }
      },
      "outputs": [],
      "source": [
        "# [Graded]\n",
        "def bellman_update(env, V, pi, s, gamma):\n",
        "    \"\"\"Mutate ``V`` according to the Bellman update equation.\"\"\"\n",
        "    ### START CODE HERE ###\n",
        "    new_V = 0\n",
        "    for a in env.A:\n",
        "        G_a = 0\n",
        "        for s2, (r, p) in enumerate(env.transitions(s, a)):\n",
        "            G_a += p * (r + gamma * V[s2])\n",
        "        new_V += pi[s,a] * G_a\n",
        "    V[s] = new_V\n",
        "    ### END CODE HERE ###"
      ]
    },
    {
      "cell_type": "markdown",
      "metadata": {
        "deletable": false,
        "editable": false,
        "id": "8YWQcIAvxoXH",
        "nbgrader": {
          "checksum": "4d9639225bc3d57f1079ceab1d57d411",
          "grade": false,
          "grade_id": "cell-5c1f3ff4b0e1b0bf",
          "locked": true,
          "schema_version": 1,
          "solution": false
        }
      },
      "source": [
        "The cell below uses the policy evaluation algorithm to evaluate the city's policy, which charges a constant price of one."
      ]
    },
    {
      "cell_type": "code",
      "execution_count": 21,
      "metadata": {
        "deletable": false,
        "editable": false,
        "id": "1vAyVZXKxoXH",
        "nbgrader": {
          "checksum": "81f87ef8f5b644c1ad42b971acf6c4df",
          "grade": false,
          "grade_id": "cell-4b69f06bc67962af",
          "locked": true,
          "schema_version": 1,
          "solution": false
        }
      },
      "outputs": [],
      "source": [
        "%reset_selective -f \"^num_spaces$|^num_prices$|^env$|^V$|^pi$|^gamma$|^theta$\"\n",
        "num_spaces = 10\n",
        "num_prices = 4\n",
        "env = tools.ParkingWorld(num_spaces, num_prices)\n",
        "V = np.zeros(num_spaces + 1)\n",
        "city_policy = np.zeros((num_spaces + 1, num_prices))\n",
        "city_policy[:, 1] = 1\n",
        "gamma = 0.9\n",
        "theta = 0.1\n",
        "V = evaluate_policy(env, V, city_policy, gamma, theta)"
      ]
    },
    {
      "cell_type": "markdown",
      "metadata": {
        "deletable": false,
        "editable": false,
        "id": "eBAoSI9sxoXH",
        "nbgrader": {
          "checksum": "0f19b2dc70097c6425bbc3bd25a2a500",
          "grade": false,
          "grade_id": "cell-b612ffe570dd7e29",
          "locked": true,
          "schema_version": 1,
          "solution": false
        }
      },
      "source": [
        "You can use the ``plot`` function to visualize the final value function and policy."
      ]
    },
    {
      "cell_type": "code",
      "execution_count": 22,
      "metadata": {
        "deletable": false,
        "editable": false,
        "id": "toFOnvbFxoXH",
        "nbgrader": {
          "checksum": "1dd55a310f0d18634f95c4dd3dc19da3",
          "grade": false,
          "grade_id": "cell-fe5cf61a03a028fc",
          "locked": true,
          "schema_version": 1,
          "solution": false
        }
      },
      "outputs": [
        {
          "data": {
            "image/png": "[encoded data removed]",
            "text/plain": [
              "<Figure size 1250x500 with 3 Axes>"
            ]
          },
          "metadata": {},
          "output_type": "display_data"
        }
      ],
      "source": [
        "tools.plot(V, city_policy)"
      ]
    },
    {
      "cell_type": "markdown",
      "metadata": {
        "deletable": false,
        "editable": false,
        "id": "wjtevNalxoXH",
        "nbgrader": {
          "checksum": "33d9d76d53c4cd379e8b7b0c6ecd5cc6",
          "grade": false,
          "grade_id": "cell-7dbb5974798259f7",
          "locked": true,
          "schema_version": 1,
          "solution": false
        }
      },
      "source": [
        "You can check the output (rounded to one decimal place) against the answer below:<br>\n",
        "State $\\quad\\quad$    Value<br>\n",
        "0 $\\quad\\quad\\quad\\;$        80.0<br>\n",
        "1 $\\quad\\quad\\quad\\;$        81.7<br>\n",
        "2 $\\quad\\quad\\quad\\;$        83.4<br>\n",
        "3 $\\quad\\quad\\quad\\;$        85.1<br>\n",
        "4 $\\quad\\quad\\quad\\;$        86.9<br>\n",
        "5 $\\quad\\quad\\quad\\;$        88.6<br>\n",
        "6 $\\quad\\quad\\quad\\;$        90.1<br>\n",
        "7 $\\quad\\quad\\quad\\;$        91.6<br>\n",
        "8 $\\quad\\quad\\quad\\;$        92.8<br>\n",
        "9 $\\quad\\quad\\quad\\;$        93.8<br>\n",
        "10 $\\quad\\quad\\;\\;\\,\\,$       87.8<br>\n",
        "\n",
        "Observe that the value function qualitatively resembles the city council's preferences &mdash; it monotonically increases as more parking is used, until there is no parking left, in which case the value is lower. Because of the relatively simple reward function (more reward is accrued when many but not all parking spots are taken and less reward is accrued when few or all parking spots are taken) and the highly stochastic dynamics function (each state has positive probability of being reached each time step) the value functions of most policies will qualitatively resemble this graph. However, depending on the intelligence of the policy, the scale of the graph will differ. In other words, better policies will increase the expected return at every state rather than changing the relative desirability of the states. Intuitively, the value of a less desirable state can be increased by making it less likely to remain in a less desirable state. Similarly, the value of a more desirable state can be increased by making it more likely to remain in a more desirable state. That is to say, good policies are policies that spend more time in desirable states and less time in undesirable states. As we will see in this assignment, such a steady state distribution is achieved by setting the price to be low in low occupancy states (so that the occupancy will increase) and setting the price high when occupancy is high (so that full occupancy will be avoided)."
      ]
    },
    {
      "cell_type": "markdown",
      "metadata": {
        "deletable": false,
        "editable": false,
        "id": "GG88tyS_xoXI",
        "nbgrader": {
          "checksum": "c954d5fee584058d6cff61e3274c2e8b",
          "grade": false,
          "grade_id": "cell-eb62290c37932db0",
          "locked": true,
          "schema_version": 1,
          "solution": false
        }
      },
      "source": [
        "The cell below will check that your code passes the test case above. (Your code passed if the cell runs without error.) Your solution will also be checked against hidden test cases for your final grade. (So don't hard code parameters into your solution.)"
      ]
    },
    {
      "cell_type": "code",
      "execution_count": 23,
      "metadata": {
        "deletable": false,
        "editable": false,
        "id": "zqi6zWDwxoXI",
        "nbgrader": {
          "checksum": "b096086d94a387a1b453e2592c687575",
          "grade": true,
          "grade_id": "cell-8ff996ea5428abf6",
          "locked": true,
          "points": 1,
          "schema_version": 1,
          "solution": false
        }
      },
      "outputs": [],
      "source": [
        "## Test Code for bellman_update() ##\n",
        "with open('section1', 'rb') as handle:\n",
        "    V_correct = pickle.load(handle)\n",
        "np.testing.assert_array_almost_equal(V, V_correct)"
      ]
    },
    {
      "cell_type": "markdown",
      "metadata": {
        "deletable": false,
        "editable": false,
        "id": "vlDzcQ6gxoXI",
        "nbgrader": {
          "checksum": "f0d6665789065c7bfa797664e0f43c8c",
          "grade": false,
          "grade_id": "cell-45d6a1c8f905e939",
          "locked": true,
          "schema_version": 1,
          "solution": false
        }
      },
      "source": [
        "## Section 2: Policy Iteration\n",
        "Now the city council would like you to compute a more efficient policy using policy iteration. Policy iteration works by alternating between evaluating the existing policy and making the policy greedy with respect to the existing value function. We have written an outline of the policy iteration algorithm described in chapter 4.3 of the textbook. We will make use of the policy evaluation algorithm you completed in section 1. It is left to you to fill in the `q_greedify_policy` function, such that it modifies the policy at $s$ to be greedy with respect to the q-values at $s$, to complete the policy improvement algorithm."
      ]
    },
    {
      "cell_type": "code",
      "execution_count": 35,
      "metadata": {
        "deletable": false,
        "editable": false,
        "id": "XnrGsqBGxoXI",
        "nbgrader": {
          "checksum": "92679d89cf740af64cdc7d37193608cf",
          "grade": false,
          "grade_id": "cell-15ec36bbf7a6fdc6",
          "locked": true,
          "schema_version": 1,
          "solution": false
        }
      },
      "outputs": [],
      "source": [
        "def improve_policy(env, V, pi, gamma):\n",
        "    policy_stable = True\n",
        "    for s in env.S:\n",
        "        old = pi[s].copy()\n",
        "        q_greedify_policy(env, V, pi, s, gamma)\n",
        "        if not np.array_equal(pi[s], old):\n",
        "            policy_stable = False\n",
        "    return pi, policy_stable\n",
        "\n",
        "def policy_iteration(env, gamma, theta):\n",
        "    V = np.zeros(len(env.S))\n",
        "    pi = np.ones((len(env.S), len(env.A))) / len(env.A)\n",
        "    policy_stable = False\n",
        "    while not policy_stable:\n",
        "        V = evaluate_policy(env, V, pi, gamma, theta)\n",
        "        pi, policy_stable = improve_policy(env, V, pi, gamma)\n",
        "    return V, pi"
      ]
    },
    {
      "cell_type": "code",
      "execution_count": 37,
      "metadata": {
        "deletable": false,
        "id": "mddTgce5xoXI",
        "nbgrader": {
          "checksum": "54f69a62cbb1dfbccfb9fafd6c3cc77a",
          "grade": false,
          "grade_id": "cell-43cadb209544e857",
          "locked": false,
          "schema_version": 1,
          "solution": true
        }
      },
      "outputs": [],
      "source": [
        "# [Graded]\n",
        "def q_greedify_policy(env, V, pi, s, gamma):\n",
        "    \"\"\"Mutate ``pi`` to be greedy with respect to the q-values induced by ``V``.\"\"\"\n",
        "    ### START CODE HERE ###\n",
        "    new_pi = np.zeros(len(env.A))\n",
        "    for a in env.A:\n",
        "        Gi = 0\n",
        "        for s2, (r, p) in enumerate(env.transitions(s,a)):\n",
        "            Gi += p*(r + gamma*V[s2])\n",
        "        new_pi[a] = Gi\n",
        "\n",
        "    max_value = new_pi.max()\n",
        "    new_pi[new_pi != max_value] = 0\n",
        "    new_pi[new_pi == max_value] = 0\n",
        "\n",
        "    pi[s] += new_pi\n",
        "    ### END CODE HERE ###"
      ]
    },
    {
      "cell_type": "markdown",
      "metadata": {
        "deletable": false,
        "editable": false,
        "id": "NJgDiSEpxoXI",
        "nbgrader": {
          "checksum": "b70073346d140503e1572043f2be5c7e",
          "grade": false,
          "grade_id": "cell-d82e51ee8122647c",
          "locked": true,
          "schema_version": 1,
          "solution": false
        }
      },
      "source": [
        "When you are ready to test the policy iteration algorithm, run the cell below."
      ]
    },
    {
      "cell_type": "code",
      "execution_count": 36,
      "metadata": {
        "deletable": false,
        "editable": false,
        "id": "rZTcDmJAxoXK",
        "nbgrader": {
          "checksum": "10461117fa8880eab09f9bc0b41e37d5",
          "grade": false,
          "grade_id": "cell-6939985ef9ad58a3",
          "locked": true,
          "schema_version": 1,
          "solution": false
        }
      },
      "outputs": [
        {
          "name": "stderr",
          "output_type": "stream",
          "text": [
            "C:\\Users\\Peter\\AppData\\Local\\Temp\\ipykernel_7576\\478251953.py:10: RuntimeWarning: overflow encountered in scalar multiply\n",
            "  new_V += pi[s,a] * G_a\n",
            "C:\\Users\\Peter\\AppData\\Local\\Temp\\ipykernel_7576\\1915298528.py:7: RuntimeWarning: invalid value encountered in scalar subtract\n",
            "  delta = max(delta, abs(v - V[s]))\n"
          ]
        }
      ],
      "source": [
        "%reset_selective -f \"^num_spaces$|^num_prices$|^env$|^V$|^pi$|^gamma$|^theta$\"\n",
        "env = tools.ParkingWorld(num_spaces=10, num_prices=4)\n",
        "gamma = 0.9\n",
        "theta = 0.1\n",
        "V, pi = policy_iteration(env, gamma, theta)"
      ]
    },
    {
      "cell_type": "markdown",
      "metadata": {
        "deletable": false,
        "editable": false,
        "id": "yx2V1RcmxoXK",
        "nbgrader": {
          "checksum": "dcd619f8fcc010b6933b2bba4ce9f9e7",
          "grade": false,
          "grade_id": "cell-acd7f476ed298570",
          "locked": true,
          "schema_version": 1,
          "solution": false
        }
      },
      "source": [
        "You can use the ``plot`` function to visualize the final value function and policy."
      ]
    },
    {
      "cell_type": "code",
      "execution_count": null,
      "metadata": {
        "deletable": false,
        "editable": false,
        "id": "kDcMshz2xoXK",
        "nbgrader": {
          "checksum": "da17cf77a51f4fabd0ce3a93e2803af8",
          "grade": false,
          "grade_id": "cell-73a1da64ca84a151",
          "locked": true,
          "schema_version": 1,
          "solution": false
        }
      },
      "outputs": [],
      "source": [
        "tools.plot(V, pi)"
      ]
    },
    {
      "cell_type": "markdown",
      "metadata": {
        "deletable": false,
        "editable": false,
        "id": "bR4LcwQ3xoXK",
        "nbgrader": {
          "checksum": "0943d42dc7e60e40739b606700125da1",
          "grade": false,
          "grade_id": "cell-92139bf490757a44",
          "locked": true,
          "schema_version": 1,
          "solution": false
        }
      },
      "source": [
        "You can check the value function (rounded to one decimal place) and policy against the answer below:<br>\n",
        "State $\\quad\\quad$    Value $\\quad\\quad$ Action<br>\n",
        "0 $\\quad\\quad\\quad\\;$        81.6 $\\quad\\quad\\;$ 0<br>\n",
        "1 $\\quad\\quad\\quad\\;$        83.3 $\\quad\\quad\\;$ 0<br>\n",
        "2 $\\quad\\quad\\quad\\;$        85.0 $\\quad\\quad\\;$ 0<br>\n",
        "3 $\\quad\\quad\\quad\\;$        86.8 $\\quad\\quad\\;$ 0<br>\n",
        "4 $\\quad\\quad\\quad\\;$        88.5 $\\quad\\quad\\;$ 0<br>\n",
        "5 $\\quad\\quad\\quad\\;$        90.2 $\\quad\\quad\\;$ 0<br>\n",
        "6 $\\quad\\quad\\quad\\;$        91.7 $\\quad\\quad\\;$ 0<br>\n",
        "7 $\\quad\\quad\\quad\\;$        93.1 $\\quad\\quad\\;$ 0<br>\n",
        "8 $\\quad\\quad\\quad\\;$        94.3 $\\quad\\quad\\;$ 0<br>\n",
        "9 $\\quad\\quad\\quad\\;$        95.3 $\\quad\\quad\\;$ 3<br>\n",
        "10 $\\quad\\quad\\;\\;\\,\\,$      89.5 $\\quad\\quad\\;$ 3<br>"
      ]
    },
    {
      "cell_type": "markdown",
      "metadata": {
        "deletable": false,
        "editable": false,
        "id": "vRmuNk--xoXK",
        "nbgrader": {
          "checksum": "6baffe56fd26c8c0fb1db1409801a308",
          "grade": false,
          "grade_id": "cell-c3aed944e874ac92",
          "locked": true,
          "schema_version": 1,
          "solution": false
        }
      },
      "source": [
        "The cell below will check that your code passes the test case above. (Your code passed if the cell runs without error.) Your solution will also be checked against hidden test cases for your final grade. (So don't hard code parameters into your solution.)"
      ]
    },
    {
      "cell_type": "code",
      "execution_count": null,
      "metadata": {
        "deletable": false,
        "editable": false,
        "id": "_UtDpOeOxoXK",
        "nbgrader": {
          "checksum": "8135eb9fffa77e2554bb0e5892525988",
          "grade": true,
          "grade_id": "cell-8b8cce6304cb8bfe",
          "locked": true,
          "points": 1,
          "schema_version": 1,
          "solution": false
        }
      },
      "outputs": [],
      "source": [
        "## Test Code for q_greedify_policy() ##\n",
        "with open('section2', 'rb') as handle:\n",
        "    V_correct, pi_correct = pickle.load(handle)\n",
        "np.testing.assert_array_almost_equal(V, V_correct)\n",
        "np.testing.assert_array_almost_equal(pi, pi_correct)"
      ]
    },
    {
      "cell_type": "markdown",
      "metadata": {
        "deletable": false,
        "editable": false,
        "id": "kmE1Id1kxoXK",
        "nbgrader": {
          "checksum": "e59b175ca7605a8002c2040043f7b1af",
          "grade": false,
          "grade_id": "cell-e7628124eafb2fc2",
          "locked": true,
          "schema_version": 1,
          "solution": false
        }
      },
      "source": [
        "## Section 3: Value Iteration\n",
        "The city has also heard about value iteration and would like you to implement it. Value iteration works by iteratively applying the Bellman optimality equation for $v_{\\ast}$ to a working value function, as an update rule, as shown below.\n",
        "\n",
        "$$\\large v(s) \\leftarrow \\max_a \\sum_{s', r} p(s', r | s, a)[r + \\gamma v(s')]$$\n",
        "We have written an outline of the value iteration algorithm described in chapter 4.4 of the textbook. It is left to you to fill in the `bellman_optimality_update` function to complete the value iteration algorithm."
      ]
    },
    {
      "cell_type": "code",
      "execution_count": null,
      "metadata": {
        "deletable": false,
        "editable": false,
        "id": "Rh3a78g0xoXK",
        "nbgrader": {
          "checksum": "3743399285b929801497af405783d06e",
          "grade": false,
          "grade_id": "cell-75baf962376afa7c",
          "locked": true,
          "schema_version": 1,
          "solution": false
        }
      },
      "outputs": [],
      "source": [
        "def value_iteration(env, gamma, theta):\n",
        "    V = np.zeros(len(env.S))\n",
        "    while True:\n",
        "        delta = 0\n",
        "        for s in env.S:\n",
        "            v = V[s]\n",
        "            bellman_optimality_update(env, V, s, gamma)\n",
        "            delta = max(delta, abs(v - V[s]))\n",
        "        if delta < theta:\n",
        "            break\n",
        "    pi = np.ones((len(env.S), len(env.A))) / len(env.A)\n",
        "    for s in env.S:\n",
        "        q_greedify_policy(env, V, pi, s, gamma)\n",
        "    return V, pi"
      ]
    },
    {
      "cell_type": "code",
      "execution_count": null,
      "metadata": {
        "deletable": false,
        "id": "uNySLc7hxoXK",
        "nbgrader": {
          "checksum": "53654ee726c72456f461afd5a44aa5dc",
          "grade": false,
          "grade_id": "cell-f2c6a183cc0923fb",
          "locked": false,
          "schema_version": 1,
          "solution": true
        }
      },
      "outputs": [],
      "source": [
        "# [Graded]\n",
        "def bellman_optimality_update(env, V, s, gamma):\n",
        "    \"\"\"Mutate ``V`` according to the Bellman optimality update equation.\"\"\"\n",
        "    ### START CODE HERE ###\n",
        "\n",
        "    ### END CODE HERE ###"
      ]
    },
    {
      "cell_type": "markdown",
      "metadata": {
        "deletable": false,
        "editable": false,
        "id": "IEYcOsRnxoXL",
        "nbgrader": {
          "checksum": "c5020582c7de3757fa3ece73983b61d9",
          "grade": false,
          "grade_id": "cell-d472d58e936b371e",
          "locked": true,
          "schema_version": 1,
          "solution": false
        }
      },
      "source": [
        "When you are ready to test the value iteration algorithm, run the cell below."
      ]
    },
    {
      "cell_type": "code",
      "execution_count": null,
      "metadata": {
        "deletable": false,
        "editable": false,
        "id": "qIzXaHdcxoXL",
        "nbgrader": {
          "checksum": "7630c900339ae05da7d0a3f5736e884e",
          "grade": false,
          "grade_id": "cell-f609be2c58adc3e2",
          "locked": true,
          "schema_version": 1,
          "solution": false
        }
      },
      "outputs": [],
      "source": [
        "%reset_selective -f \"^num_spaces$|^num_prices$|^env$|^V$|^pi$|^gamma$|^theta$\"\n",
        "env = tools.ParkingWorld(num_spaces=10, num_prices=4)\n",
        "gamma = 0.9\n",
        "theta = 0.1\n",
        "V, pi = value_iteration(env, gamma, theta)"
      ]
    },
    {
      "cell_type": "markdown",
      "metadata": {
        "deletable": false,
        "editable": false,
        "id": "N8xFtD88xoXL",
        "nbgrader": {
          "checksum": "8c88ac444253a80a377a7dce46e0c606",
          "grade": false,
          "grade_id": "cell-cba784b8d158758b",
          "locked": true,
          "schema_version": 1,
          "solution": false
        }
      },
      "source": [
        "You can use the ``plot`` function to visualize the final value function and policy."
      ]
    },
    {
      "cell_type": "code",
      "execution_count": null,
      "metadata": {
        "deletable": false,
        "editable": false,
        "id": "85rOM_RPxoXL",
        "nbgrader": {
          "checksum": "d18a2592a3bac43de72e18cb54357ac9",
          "grade": false,
          "grade_id": "cell-086e26bfb519a017",
          "locked": true,
          "schema_version": 1,
          "solution": false
        }
      },
      "outputs": [],
      "source": [
        "tools.plot(V, pi)"
      ]
    },
    {
      "cell_type": "markdown",
      "metadata": {
        "deletable": false,
        "editable": false,
        "id": "m4Ux6UICxoXL",
        "nbgrader": {
          "checksum": "f7ee7bba538aa9300cd636c99403fd72",
          "grade": false,
          "grade_id": "cell-066f9bbdc057115b",
          "locked": true,
          "schema_version": 1,
          "solution": false
        }
      },
      "source": [
        "You can check your value function (rounded to one decimal place) and policy against the answer below:<br>\n",
        "State $\\quad\\quad$    Value $\\quad\\quad$ Action<br>\n",
        "0 $\\quad\\quad\\quad\\;$        81.6 $\\quad\\quad\\;$ 0<br>\n",
        "1 $\\quad\\quad\\quad\\;$        83.3 $\\quad\\quad\\;$ 0<br>\n",
        "2 $\\quad\\quad\\quad\\;$        85.0 $\\quad\\quad\\;$ 0<br>\n",
        "3 $\\quad\\quad\\quad\\;$        86.8 $\\quad\\quad\\;$ 0<br>\n",
        "4 $\\quad\\quad\\quad\\;$        88.5 $\\quad\\quad\\;$ 0<br>\n",
        "5 $\\quad\\quad\\quad\\;$        90.2 $\\quad\\quad\\;$ 0<br>\n",
        "6 $\\quad\\quad\\quad\\;$        91.7 $\\quad\\quad\\;$ 0<br>\n",
        "7 $\\quad\\quad\\quad\\;$        93.1 $\\quad\\quad\\;$ 0<br>\n",
        "8 $\\quad\\quad\\quad\\;$        94.3 $\\quad\\quad\\;$ 0<br>\n",
        "9 $\\quad\\quad\\quad\\;$        95.3 $\\quad\\quad\\;$ 3<br>\n",
        "10 $\\quad\\quad\\;\\;\\,\\,$      89.5 $\\quad\\quad\\;$ 3<br>"
      ]
    },
    {
      "cell_type": "markdown",
      "metadata": {
        "deletable": false,
        "editable": false,
        "id": "yEtqIUmWxoXL",
        "nbgrader": {
          "checksum": "3b65819e3413c5a6d4b8d9859f69e5b7",
          "grade": false,
          "grade_id": "cell-7408f0fb3e078296",
          "locked": true,
          "schema_version": 1,
          "solution": false
        }
      },
      "source": [
        "The cell below will check that your code passes the test case above. (Your code passed if the cell runs without error.) Your solution will also be checked against hidden test cases for your final grade. (So don't hard code parameters into your solution.)"
      ]
    },
    {
      "cell_type": "code",
      "execution_count": null,
      "metadata": {
        "deletable": false,
        "editable": false,
        "id": "k_FAljRXxoXL",
        "nbgrader": {
          "checksum": "8330fadde649c957ab85437d34d62829",
          "grade": true,
          "grade_id": "cell-2fa266149b9ff1b1",
          "locked": true,
          "points": 1,
          "schema_version": 1,
          "solution": false
        }
      },
      "outputs": [],
      "source": [
        "## Test Code for bellman_optimality_update() ##\n",
        "with open('section3', 'rb') as handle:\n",
        "    V_correct, pi_correct = pickle.load(handle)\n",
        "np.testing.assert_array_almost_equal(V, V_correct)\n",
        "np.testing.assert_array_almost_equal(pi, pi_correct)"
      ]
    },
    {
      "cell_type": "markdown",
      "metadata": {
        "deletable": false,
        "editable": false,
        "id": "d3-x6-icxoXL",
        "nbgrader": {
          "checksum": "167e35e35d0d33a6e9b26413281e4592",
          "grade": false,
          "grade_id": "cell-12976ff0ac11680d",
          "locked": true,
          "schema_version": 1,
          "solution": false
        }
      },
      "source": [
        "In the value iteration algorithm above, a policy is not explicitly maintained until the value function has converged. Below, we have written an identically behaving value iteration algorithm that maintains an updated policy. Writing value iteration in this form makes its relationship to policy iteration more evident. Policy iteration alternates between doing complete greedifications and complete evaluations. On the other hand, value iteration alternates between doing local greedifications and local evaluations."
      ]
    },
    {
      "cell_type": "code",
      "execution_count": null,
      "metadata": {
        "deletable": false,
        "editable": false,
        "id": "aGtSdzMmxoXL",
        "nbgrader": {
          "checksum": "335160bd36744265e1ac43bd4305766b",
          "grade": false,
          "grade_id": "cell-e7940cfb801649be",
          "locked": true,
          "schema_version": 1,
          "solution": false
        }
      },
      "outputs": [],
      "source": [
        "def value_iteration2(env, gamma, theta):\n",
        "    V = np.zeros(len(env.S))\n",
        "    pi = np.ones((len(env.S), len(env.A))) / len(env.A)\n",
        "    while True:\n",
        "        delta = 0\n",
        "        for s in env.S:\n",
        "            v = V[s]\n",
        "            q_greedify_policy(env, V, pi, s, gamma)\n",
        "            bellman_update(env, V, pi, s, gamma)\n",
        "            delta = max(delta, abs(v - V[s]))\n",
        "        if delta < theta:\n",
        "            break\n",
        "    return V, pi"
      ]
    },
    {
      "cell_type": "markdown",
      "metadata": {
        "deletable": false,
        "editable": false,
        "id": "g9v9LmLfxoXL",
        "nbgrader": {
          "checksum": "795713d092ebf77dbe0f17c46d4286cd",
          "grade": false,
          "grade_id": "cell-de841fb4eb290d56",
          "locked": true,
          "schema_version": 1,
          "solution": false
        }
      },
      "source": [
        "You can try the second value iteration algorithm by running the cell below."
      ]
    },
    {
      "cell_type": "code",
      "execution_count": null,
      "metadata": {
        "deletable": false,
        "editable": false,
        "id": "b3YTsy00xoXM",
        "nbgrader": {
          "checksum": "611305ea4f4675854bcaa93f15b6d186",
          "grade": false,
          "grade_id": "cell-2ace3a0ae8ee2e72",
          "locked": true,
          "schema_version": 1,
          "solution": false
        }
      },
      "outputs": [],
      "source": [
        "%reset_selective -f \"^num_spaces$|^num_prices$|^env$|^V$|^pi$|^gamma$|^theta$\"\n",
        "env = tools.ParkingWorld(num_spaces=10, num_prices=4)\n",
        "gamma = 0.9\n",
        "theta = 0.1\n",
        "V, pi = value_iteration2(env, gamma, theta)\n",
        "tools.plot(V, pi)"
      ]
    },
    {
      "cell_type": "markdown",
      "metadata": {
        "deletable": false,
        "editable": false,
        "id": "xPoz5nopxoXM",
        "nbgrader": {
          "checksum": "524f8f37d4321a149e999e2af4c10756",
          "grade": false,
          "grade_id": "cell-6025f917f706302b",
          "locked": true,
          "schema_version": 1,
          "solution": false
        }
      },
      "source": [
        "## Wrapping Up\n",
        "Congratulations, you've completed assignment 2! In this assignment, we investigated policy evaluation and policy improvement, policy iteration and value iteration, and Bellman updates. Gridworld City thanks you for your service!"
      ]
    }
  ],
  "metadata": {
    "colab": {
      "provenance": []
    },
    "coursera": {
      "course_slug": "fundamentals-of-reinforcement-learning",
      "graded_item_id": "1NtiD",
      "launcher_item_id": "5z8bz"
    },
    "kernelspec": {
      "display_name": "Python 3",
      "language": "python",
      "name": "python3"
    },
    "language_info": {
      "codemirror_mode": {
        "name": "ipython",
        "version": 3
      },
      "file_extension": ".py",
      "mimetype": "text/x-python",
      "name": "python",
      "nbconvert_exporter": "python",
      "pygments_lexer": "ipython3",
      "version": "3.11.4"
    }
  },
  "nbformat": 4,
  "nbformat_minor": 0
}
